{
 "cells": [
  {
   "cell_type": "markdown",
   "metadata": {},
   "source": [
    "<div style=\"text-align: center;\">\n",
    "    <h1>C, Fortran ユーザーのための Julia 入門<br>\n",
    "    第1回 基本操作編<h1>\n",
    "</div>\n",
    "\n",
    "<img src=\"http://julialang.org/images/logo_hires.png\" alt=\"Julia Logo\" width=\"300\"></img>\n",
    "\n",
    "\n",
    "# 目次\n",
    "\n",
    "- [Hello World!](#Hello-World!)\n",
    "- [コメント、Help](#コメント、Help)\n",
    "- [数値型と演算](#数値型と演算)\n",
    "- [変数と型](#変数と型)\n",
    "- [配列とタプル](#配列とタプル)\n",
    " - [配列](#配列)\n",
    " - [タプル](#タプル)\n",
    "- [辞書型](#辞書型)\n",
    "- [if文](#if文)\n",
    "- [for文、while文](#for文、while文)\n",
    "- [内包表記 - comprehension](#内包表記-comprehension)\n",
    "- [関数](#関数)\n",
    "- [多重ディスパッチ](#多重ディスパッチ)\n",
    "- [参考](#参考)"
   ]
  },
  {
   "cell_type": "markdown",
   "metadata": {
    "slideshow": {
     "slide_type": "slide"
    }
   },
   "source": [
    "# Hello World!\n",
    "\n",
    "まずは定番の Hello World! を表示してみましょう。\n",
    "JuliaではC, Fortranでのおまじない的なものはなく、コードの1行目から即実行されます。\n",
    "\n",
    "Juliaで文字を表示するには print または println 関数を使います。\n",
    "print と println の違いは最後に改行コードが入るか否かの違いです。\n",
    "```julia\n",
    "    print(\"hoge\\n\"), println(\"hoge\")\n",
    "```\n",
    "は同じ意味です。\n",
    "\n",
    "\n",
    "実際に、次の空欄に\n",
    "```julia\n",
    "    print(\"Hello World!\")\n",
    "```\n",
    "と入力し、Shift-Enter または Ctrl-Enter で実行してみましょう。\n",
    "\n",
    "\n"
   ]
  },
  {
   "cell_type": "code",
   "execution_count": null,
   "metadata": {
    "collapsed": false
   },
   "outputs": [],
   "source": [
    "print(\"Hello World!\")"
   ]
  },
  {
   "cell_type": "markdown",
   "metadata": {},
   "source": [
    "[目次へ戻る](#目次)"
   ]
  },
  {
   "cell_type": "code",
   "execution_count": null,
   "metadata": {
    "collapsed": true
   },
   "outputs": [],
   "source": []
  },
  {
   "cell_type": "markdown",
   "metadata": {},
   "source": [
    "# コメント、Help\n",
    "\n",
    "Juliaではコメントは # を使います。 複数行に渡るコメントを書く場合 #= で始めて、 =# で閉じます。"
   ]
  },
  {
   "cell_type": "code",
   "execution_count": null,
   "metadata": {
    "collapsed": false
   },
   "outputs": [],
   "source": [
    "#=\n",
    "ここに書いたことは評価されません\n",
    "ここに書いたことは評価されません\n",
    "ここに書いたことは評価されません\n",
    "ここに書いたことは評価されません\n",
    "=#\n",
    "\n",
    "10 # コメント"
   ]
  },
  {
   "cell_type": "markdown",
   "metadata": {},
   "source": [
    "```julia\n",
    "?関数名 \n",
    "```\n",
    "\n",
    "で関数の使い方を調べることができます。"
   ]
  },
  {
   "cell_type": "code",
   "execution_count": null,
   "metadata": {
    "collapsed": false
   },
   "outputs": [],
   "source": [
    "?fft"
   ]
  },
  {
   "cell_type": "code",
   "execution_count": null,
   "metadata": {
    "collapsed": true
   },
   "outputs": [],
   "source": []
  },
  {
   "cell_type": "markdown",
   "metadata": {
    "slideshow": {
     "slide_type": "slide"
    }
   },
   "source": [
    "# 数値型と演算\n",
    "\n",
    "## 数値型\n",
    "よく扱われる数値型は以下の5つ\n",
    "- 整数, $\\mathbf{Z}$\n",
    "- 有理数, $\\mathbf{Q}$\n",
    "- 浮動小数点, $\\mathbf{R}$\n",
    "- 複素数, $\\mathbf{C}$\n",
    "- Bool (true or false)\n",
    "\n",
    "数値型のヒエラルキーは以下の図のようです。\n",
    "<img src=\"https://upload.wikimedia.org/wikipedia/commons/4/40/Type-hierarchy-for-julia-numbers.png\" alt=\"hierarchy\" height=\"300\"></img>\n",
    "Wikibook -  Introducing Julia/Types より<br>\n",
    "https://en.wikibooks.org/wiki/Introducing_Julia/Types\n",
    "\n",
    "## 演算\n",
    "四則演算で使われる記号は他の言語同様<br>\n",
    "+, -, *, /<br>\n",
    "\n",
    "べき乗は ^ , 剰余は % を使う。\n",
    "加えてJuliaでは有理数も扱え // を使う。"
   ]
  },
  {
   "cell_type": "code",
   "execution_count": null,
   "metadata": {
    "collapsed": false
   },
   "outputs": [],
   "source": [
    "println(\"1 + 3 = \", 1 + 3) # 整数型\n",
    "println(\"2/3 + 4/5 = \", 2//3 + 4//5) # 有理数型。Julia では有理数を扱える\n",
    "println(\"4.5 + 2.1 = \", 4.5 + 2.1) # 浮動小数点型\n",
    "println(3 + 2im) # 複素数型。虚数 i はJuliaで im\n",
    "println(\"5 % 2 = \", 5 % 2) # 剰余算\n",
    "println(true) # Boolean"
   ]
  },
  {
   "cell_type": "code",
   "execution_count": null,
   "metadata": {
    "collapsed": true
   },
   "outputs": [],
   "source": []
  },
  {
   "cell_type": "markdown",
   "metadata": {},
   "source": [
    "C言語などとは違い 3 / 2 などは浮動小数点になります"
   ]
  },
  {
   "cell_type": "code",
   "execution_count": null,
   "metadata": {
    "collapsed": false
   },
   "outputs": [],
   "source": [
    "3 / 2"
   ]
  },
  {
   "cell_type": "markdown",
   "metadata": {},
   "source": [
    "整数値を返したい場合は div 関数を使います。"
   ]
  },
  {
   "cell_type": "code",
   "execution_count": null,
   "metadata": {
    "collapsed": false
   },
   "outputs": [],
   "source": [
    "div(3, 2)"
   ]
  },
  {
   "cell_type": "code",
   "execution_count": null,
   "metadata": {
    "collapsed": true
   },
   "outputs": [],
   "source": []
  },
  {
   "cell_type": "markdown",
   "metadata": {},
   "source": [
    "アンダーバーで数値を区切ることも出来ます。大きな数を扱うときに見やすいので便利です。"
   ]
  },
  {
   "cell_type": "code",
   "execution_count": null,
   "metadata": {
    "collapsed": false
   },
   "outputs": [],
   "source": [
    "100_000_000"
   ]
  },
  {
   "cell_type": "markdown",
   "metadata": {},
   "source": [
    "### 数学記号\n",
    "\n",
    "Juliaの大きな特徴の一つとして数学記号を使うことができます。\n",
    "\n",
    "例えば上の div 関数は ÷ で代用できます。\n",
    "÷ を入力するには \\div[Tab] とすると ÷ に変換されます。"
   ]
  },
  {
   "cell_type": "code",
   "execution_count": null,
   "metadata": {
    "collapsed": false,
    "scrolled": true
   },
   "outputs": [],
   "source": [
    "3 ÷ 2"
   ]
  },
  {
   "cell_type": "markdown",
   "metadata": {},
   "source": [
    "他にも ∈ ∩ √ などいろいろな演算子を使用することができます。\n",
    "\n",
    "これらの文字は $\\TeX$文法 - [Tab] で入力することができます。"
   ]
  },
  {
   "cell_type": "code",
   "execution_count": null,
   "metadata": {
    "collapsed": false
   },
   "outputs": [],
   "source": [
    "√2 # \\sqrt[Tab]"
   ]
  },
  {
   "cell_type": "markdown",
   "metadata": {},
   "source": [
    "Juliaは任意精度演算に対応しているため、とんでもなく大きな数値も扱えます。\n",
    "任意精度演算を行う場合は big 関数を使います。"
   ]
  },
  {
   "cell_type": "code",
   "execution_count": null,
   "metadata": {
    "collapsed": false
   },
   "outputs": [],
   "source": [
    "big(2)^1000"
   ]
  },
  {
   "cell_type": "markdown",
   "metadata": {},
   "source": [
    "型が違う物同士の演算では自動的に型が変換されます。(変換できるものなら)  [Conversion and Promotion &mdash; Julia Language 0.5.1-pre documentation](http://docs.julialang.org/en/stable/manual/conversion-and-promotion/?highlight=promotion)"
   ]
  },
  {
   "cell_type": "code",
   "execution_count": null,
   "metadata": {
    "collapsed": false
   },
   "outputs": [],
   "source": [
    "println(1.0 + 2//3) # 有理数型から浮動小数点へ"
   ]
  },
  {
   "cell_type": "code",
   "execution_count": null,
   "metadata": {
    "collapsed": true
   },
   "outputs": [],
   "source": []
  },
  {
   "cell_type": "markdown",
   "metadata": {},
   "source": [
    "### 型の確認\n",
    "\n",
    "値や変数の型を調べるには typeof 関数を使います。"
   ]
  },
  {
   "cell_type": "code",
   "execution_count": null,
   "metadata": {
    "collapsed": false
   },
   "outputs": [],
   "source": [
    "typeof(3.0 + im)"
   ]
  },
  {
   "cell_type": "code",
   "execution_count": null,
   "metadata": {
    "collapsed": false
   },
   "outputs": [],
   "source": [
    "typeof(47890798473242389412396)"
   ]
  },
  {
   "cell_type": "code",
   "execution_count": null,
   "metadata": {
    "collapsed": true
   },
   "outputs": [],
   "source": []
  },
  {
   "cell_type": "markdown",
   "metadata": {},
   "source": [
    "[目次へ戻る](#目次)"
   ]
  },
  {
   "cell_type": "markdown",
   "metadata": {},
   "source": [
    "# 変数と型\n",
    "\n",
    "## Juliaでは型宣言不要\n",
    "Juliaでは C, Fortranと違い、変数の型を明示的に宣言する必要はありません。\n",
    "代入された値に応じて自動的に型が決まります。\n",
    "\n",
    "数値計算でよく使う型としては、上記の数値型に加え、\n",
    "- Char\n",
    "- String ※ v0.4までは ASCIIString と UTF8String がありましたが、v0.5でString型一つに統合されました。古い資料を見るときは注意。\n",
    "- Array\n",
    "- Tuple\n",
    "\n",
    "などがあります。他に自分で型を作ることもできます。\n",
    "\n",
    "C, Fortranで文字列を表現する場合は char の集まりとして表現しますが、Juliaでは String で文字列が扱えます。<br>\n",
    "わざわざ char を入れる配列を準備したり、 character a*10 などとする必要はありません。\n",
    "\n",
    "## 変数名\n",
    "Juliaでは変数名にアルファベットの他にUnicode文字が使えるので、いままでの言語では使用できなかった変数名が多く使えます。<br>\n",
    "数学記号の時同様、$\\TeX$文法でギリシャ文字も入力できますし、上付き文字や下付き文字も使用することが出来ます。\n",
    "\n",
    "Fortranではアルファベットの大文字と小文字は区別されませんが、JuliaではC同様大文字と小文字を区別します。"
   ]
  },
  {
   "cell_type": "code",
   "execution_count": null,
   "metadata": {
    "collapsed": false
   },
   "outputs": [],
   "source": [
    "a = 10 # 整数型\n",
    "# MATLABと違い、10 と入力しても浮動小数点型にはなりません。\n",
    "# また、MATLABでは単一の数字は要素数が 1 の配列と等価ですが、Julia では区別します。\n",
    "       \n",
    "b = 'A' # Char は ' ' で囲む\n",
    "c = \"Hello World!\" # 文字列は \" \" で囲む\n",
    "\n",
    "γ = 2.0 # \\gamma[Tab]\n",
    "θ = π # Juliaでは π に円周率がはじめから入っている\n",
    "x₀ = 390 # x\\_0[Tab] 下付き文字に使える文字は x\\_[Tab][Tab] で確認できる。\n",
    "x₁³ = 23 # x\\_0[Tab]\\^3[Tab] 上付き下付きを組み合わせればテンソルっぽくもできる\n",
    "田中 = \"学部生\""
   ]
  },
  {
   "cell_type": "markdown",
   "metadata": {},
   "source": [
    "Stringの中にある変数の値を入れたい場合 $ を使います。値をファイルに保存するとき、ファイル名にパラメター値を入れたいときなどによく使います。"
   ]
  },
  {
   "cell_type": "code",
   "execution_count": null,
   "metadata": {
    "collapsed": false
   },
   "outputs": [],
   "source": [
    "toshi = 10\n",
    "\"田中の年齢は $toshi 歳です\""
   ]
  },
  {
   "cell_type": "code",
   "execution_count": null,
   "metadata": {
    "collapsed": true
   },
   "outputs": [],
   "source": []
  },
  {
   "cell_type": "markdown",
   "metadata": {},
   "source": [
    "変数の型は動的に決まるため、整数値を代入したあとに浮動小数点や文字列を代入してもエラーは起きません。"
   ]
  },
  {
   "cell_type": "code",
   "execution_count": null,
   "metadata": {
    "collapsed": false
   },
   "outputs": [],
   "source": [
    "aa = 3\n",
    "println(typeof(aa))\n",
    "aa = \"ほげほげ\"\n",
    "println(typeof(aa))"
   ]
  },
  {
   "cell_type": "code",
   "execution_count": null,
   "metadata": {
    "collapsed": true
   },
   "outputs": [],
   "source": []
  },
  {
   "cell_type": "markdown",
   "metadata": {},
   "source": [
    "### 乗算記号の省略\n",
    "\n",
    "値と変数の乗算では乗算記号 * を省略することが出来ます。"
   ]
  },
  {
   "cell_type": "code",
   "execution_count": null,
   "metadata": {
    "collapsed": false
   },
   "outputs": [],
   "source": [
    "x = 5\n",
    "2x"
   ]
  },
  {
   "cell_type": "code",
   "execution_count": null,
   "metadata": {
    "collapsed": true
   },
   "outputs": [],
   "source": []
  },
  {
   "cell_type": "markdown",
   "metadata": {},
   "source": [
    "[目次へ戻る](#目次)"
   ]
  },
  {
   "cell_type": "markdown",
   "metadata": {},
   "source": [
    "# 配列とタプル\n",
    "## 配列\n",
    "### 1次元配列\n",
    "Juliaで配列を作るときは \" [ ]  \" を使います。各要素を \" , \" で区切ると１次元配列(Vector)、スペースで区切ると２次元配列ができます(Matrix)。<br>\n",
    "MATLABの場合、カンマ区切りとスペース区切りの違いはありませんが、Juliaでは区別されます。"
   ]
  },
  {
   "cell_type": "code",
   "execution_count": null,
   "metadata": {
    "collapsed": false
   },
   "outputs": [],
   "source": [
    "ar = [1, 2, 3, 4, 5, 6]"
   ]
  },
  {
   "cell_type": "code",
   "execution_count": null,
   "metadata": {
    "collapsed": false
   },
   "outputs": [],
   "source": [
    "arm = [4 5 6]"
   ]
  },
  {
   "cell_type": "markdown",
   "metadata": {},
   "source": [
    "配列の中身の型は揃える必要はなく、様々な型を一つの配列に格納することができます。"
   ]
  },
  {
   "cell_type": "code",
   "execution_count": null,
   "metadata": {
    "collapsed": false
   },
   "outputs": [],
   "source": [
    "AA = [1, 2.0, \"piyo\", true]"
   ]
  },
  {
   "cell_type": "code",
   "execution_count": null,
   "metadata": {
    "collapsed": true
   },
   "outputs": [],
   "source": []
  },
  {
   "cell_type": "markdown",
   "metadata": {},
   "source": [
    "[目次へ戻る](#目次)"
   ]
  },
  {
   "cell_type": "markdown",
   "metadata": {},
   "source": [
    "### 要素へのアクセス\n",
    "\n",
    "\n",
    "配列の要素へのアクセスの仕方は\n",
    "```julia\n",
    "    配列名[添字]\n",
    "```\n",
    "となります。MATLABと違い添字を囲むカッコは\" ( ) \" ではなく \" [ ] \"です。<br>\n",
    "C言語とは違い、配列の添字は 1 始まりです。"
   ]
  },
  {
   "cell_type": "code",
   "execution_count": null,
   "metadata": {
    "collapsed": false
   },
   "outputs": [],
   "source": [
    "ar = [2, 4, 3, 9, 8]\n",
    "ar[1]"
   ]
  },
  {
   "cell_type": "markdown",
   "metadata": {},
   "source": [
    "末尾へのアクセスには MATLAB同様 end が使えます"
   ]
  },
  {
   "cell_type": "code",
   "execution_count": null,
   "metadata": {
    "collapsed": false
   },
   "outputs": [],
   "source": [
    "ar[end-1], ar[end]"
   ]
  },
  {
   "cell_type": "code",
   "execution_count": null,
   "metadata": {
    "collapsed": true
   },
   "outputs": [],
   "source": []
  },
  {
   "cell_type": "markdown",
   "metadata": {},
   "source": [
    "### 配列の長さ\n",
    "配列の長さは length 関数で取得できます"
   ]
  },
  {
   "cell_type": "code",
   "execution_count": null,
   "metadata": {
    "collapsed": false
   },
   "outputs": [],
   "source": [
    "length(ar)"
   ]
  },
  {
   "cell_type": "code",
   "execution_count": null,
   "metadata": {
    "collapsed": true
   },
   "outputs": [],
   "source": []
  },
  {
   "cell_type": "markdown",
   "metadata": {},
   "source": [
    "[目次へ戻る](#目次)"
   ]
  },
  {
   "cell_type": "markdown",
   "metadata": {},
   "source": [
    "### 2次元配列\n",
    " 2次元配列を作るときはセミコロン \" ; \" を使います。 MATLABと同じ。\n",
    "\n",
    "$\\begin{pmatrix}1& 3\\\\ 4& 5\\end{pmatrix}$\n"
   ]
  },
  {
   "cell_type": "code",
   "execution_count": null,
   "metadata": {
    "collapsed": false
   },
   "outputs": [],
   "source": [
    "ar2 = [1 3; 4 5] # MATLABと違い[1, 3; 4, 5]では動かない"
   ]
  },
  {
   "cell_type": "markdown",
   "metadata": {},
   "source": [
    "より直感的に次のように書くこともできます。"
   ]
  },
  {
   "cell_type": "code",
   "execution_count": null,
   "metadata": {
    "collapsed": false
   },
   "outputs": [],
   "source": [
    "ar2 = [1 3\n",
    "       4 5]"
   ]
  },
  {
   "cell_type": "markdown",
   "metadata": {},
   "source": [
    "2次元配列の(i,j)成分へのアクセスは\n",
    "```julia\n",
    "    配列名[i,j]\n",
    "```\n",
    "となります。\n",
    "添字が1始まりなので、行列の成分を指定する時と同じようにできます。"
   ]
  },
  {
   "cell_type": "code",
   "execution_count": null,
   "metadata": {
    "collapsed": false
   },
   "outputs": [],
   "source": [
    "ar2[2, 1]"
   ]
  },
  {
   "cell_type": "code",
   "execution_count": null,
   "metadata": {
    "collapsed": false
   },
   "outputs": [],
   "source": [
    "ar2[2, 1] = 100 # (2, 1)成分に100を代入\n",
    "ar2"
   ]
  },
  {
   "cell_type": "markdown",
   "metadata": {},
   "source": [
    "2次元配列の成分へのアクセスは数字一つでもできます。<br>\n",
    "$M \\times N$ 行列 $A$ の $(i,j)$成分は<br>\n",
    "$A[p] = A[i,j], \\text{where } p = i + (j-1) \\times M$\n",
    "の対応関係があります。"
   ]
  },
  {
   "cell_type": "code",
   "execution_count": null,
   "metadata": {
    "collapsed": false
   },
   "outputs": [],
   "source": [
    "m = 5\n",
    "n = 3\n",
    "A = reshape(collect(1:m*n), m, n)"
   ]
  },
  {
   "cell_type": "code",
   "execution_count": null,
   "metadata": {
    "collapsed": true
   },
   "outputs": [],
   "source": []
  },
  {
   "cell_type": "markdown",
   "metadata": {},
   "source": [
    "[目次へ戻る](#目次)"
   ]
  },
  {
   "cell_type": "markdown",
   "metadata": {},
   "source": [
    "範囲を指定することで配列の一部を抜き出すことも出来ます。"
   ]
  },
  {
   "cell_type": "code",
   "execution_count": null,
   "metadata": {
    "collapsed": false
   },
   "outputs": [],
   "source": [
    "A[:, 2] # 2列目を抜き出す"
   ]
  },
  {
   "cell_type": "code",
   "execution_count": null,
   "metadata": {
    "collapsed": false
   },
   "outputs": [],
   "source": [
    "A[1:2:end, 2] # 2列目の奇数番目の行の成分を抜き出す\n",
    "# 範囲指定の文法は start:increment:fin. incrementを省略した場合 1 刻み"
   ]
  },
  {
   "cell_type": "markdown",
   "metadata": {},
   "source": [
    "true or false を使っても抜き出すことが出来ます。Vicsek modelのシミュレーションをするとき、この機能を使うとコードが短くなります。"
   ]
  },
  {
   "cell_type": "code",
   "execution_count": null,
   "metadata": {
    "collapsed": false
   },
   "outputs": [],
   "source": [
    "AAA = [1, 4, 8, 5, 7, 3]\n",
    "AAA[[true, false, true, true, false, true]]"
   ]
  },
  {
   "cell_type": "code",
   "execution_count": null,
   "metadata": {
    "collapsed": true
   },
   "outputs": [],
   "source": []
  },
  {
   "cell_type": "markdown",
   "metadata": {},
   "source": [
    "2次元配列のサイズを知るには size 関数を使います"
   ]
  },
  {
   "cell_type": "code",
   "execution_count": null,
   "metadata": {
    "collapsed": false
   },
   "outputs": [],
   "source": [
    "行列 = [1 2 3\n",
    "        4 5 6]\n",
    "size(行列) # 2 × 3 行列"
   ]
  },
  {
   "cell_type": "markdown",
   "metadata": {},
   "source": [
    "[目次へ戻る](#目次)"
   ]
  },
  {
   "cell_type": "code",
   "execution_count": null,
   "metadata": {
    "collapsed": true
   },
   "outputs": [],
   "source": []
  },
  {
   "cell_type": "markdown",
   "metadata": {},
   "source": [
    "### 範囲\n",
    "\n",
    "1次元配列に似たもので範囲型というものがあります。for文や上記の配列の要素を抜き出すときによく使用します。\n",
    "\n",
    "基本文法\n",
    "```julia\n",
    " start:increment:fin\n",
    "```\n",
    "incrementを省略すると 1 刻み。\n",
    "\n",
    "配列ではないですが添字を指定すれば、各要素にアクセスできます。\n",
    "\n",
    "MATLABの場合、同様に 1:10 と書くと [1, 2, ..., 10] という1次元配列が生成されますが、Juliaの場合は配列にはなりません。"
   ]
  },
  {
   "cell_type": "code",
   "execution_count": null,
   "metadata": {
    "collapsed": false
   },
   "outputs": [],
   "source": [
    "x = 0:5:50"
   ]
  },
  {
   "cell_type": "code",
   "execution_count": null,
   "metadata": {
    "collapsed": false
   },
   "outputs": [],
   "source": [
    "x[1], x[2]"
   ]
  },
  {
   "cell_type": "markdown",
   "metadata": {},
   "source": [
    "配列ではないので更新は出来ません"
   ]
  },
  {
   "cell_type": "code",
   "execution_count": null,
   "metadata": {
    "collapsed": false
   },
   "outputs": [],
   "source": [
    "x[1] = 1"
   ]
  },
  {
   "cell_type": "markdown",
   "metadata": {},
   "source": [
    "配列に直したい場合は collect 関数を使います。\n",
    "\n",
    "0:5:50 のほうがデータ使用量が少なく済むため、必要なときになったら展開して使用するのが良いでしょう。"
   ]
  },
  {
   "cell_type": "code",
   "execution_count": null,
   "metadata": {
    "collapsed": false
   },
   "outputs": [],
   "source": [
    "collect(0:5:50)"
   ]
  },
  {
   "cell_type": "code",
   "execution_count": null,
   "metadata": {
    "collapsed": false
   },
   "outputs": [],
   "source": []
  },
  {
   "cell_type": "markdown",
   "metadata": {},
   "source": [
    "[目次へ戻る](#目次)"
   ]
  },
  {
   "cell_type": "markdown",
   "metadata": {
    "collapsed": true
   },
   "source": [
    "### 可変長配列\n",
    "\n",
    "Juliaの配列は可変長なので後々要素を増やしたり、逆に減らしたりすることが出来ます。\n",
    "\n",
    "- push!  要素を末尾に追加\n",
    "- unshift! 要素を先頭に追加\n",
    "- pop! 末尾の要素を削除\n",
    "- shift! 先頭の要素を削除\n",
    "- append! 配列を結合"
   ]
  },
  {
   "cell_type": "code",
   "execution_count": null,
   "metadata": {
    "collapsed": false
   },
   "outputs": [],
   "source": [
    "x = collect(1:5)"
   ]
  },
  {
   "cell_type": "code",
   "execution_count": null,
   "metadata": {
    "collapsed": false
   },
   "outputs": [],
   "source": [
    "push!(x, 11) # 要素を末尾に追加"
   ]
  },
  {
   "cell_type": "code",
   "execution_count": null,
   "metadata": {
    "collapsed": false
   },
   "outputs": [],
   "source": [
    "unshift!(x, 100) # 要素を先頭に追加"
   ]
  },
  {
   "cell_type": "code",
   "execution_count": null,
   "metadata": {
    "collapsed": false
   },
   "outputs": [],
   "source": [
    "pop!(x) # 末尾の要素を削除"
   ]
  },
  {
   "cell_type": "code",
   "execution_count": null,
   "metadata": {
    "collapsed": false
   },
   "outputs": [],
   "source": [
    "x"
   ]
  },
  {
   "cell_type": "code",
   "execution_count": null,
   "metadata": {
    "collapsed": false
   },
   "outputs": [],
   "source": [
    "shift!(x) # 先頭の要素を削除"
   ]
  },
  {
   "cell_type": "code",
   "execution_count": null,
   "metadata": {
    "collapsed": false
   },
   "outputs": [],
   "source": [
    "x"
   ]
  },
  {
   "cell_type": "code",
   "execution_count": null,
   "metadata": {
    "collapsed": false
   },
   "outputs": [],
   "source": [
    "append!(x, [90, 190]) # 配列を結合"
   ]
  },
  {
   "cell_type": "code",
   "execution_count": null,
   "metadata": {
    "collapsed": true
   },
   "outputs": [],
   "source": []
  },
  {
   "cell_type": "markdown",
   "metadata": {},
   "source": [
    "[目次へ戻る](#目次)"
   ]
  },
  {
   "cell_type": "markdown",
   "metadata": {},
   "source": [
    "# <font color=\"Red\">可変長配列を扱う時の注意</font>\n",
    "\n",
    "C, Fortranは配列の大きさを指定して使うので大体のメモリの消費量を見積もれますが、Juliaの配列は可変長なので下手にコードを組むとメモリを食いつぶしコンピュータがフリーズします。\n",
    "\n",
    "以下のコードを走らせるとフリーズし、強制終了を余儀なくされます。\n",
    "```julia\n",
    "    a = []\n",
    "    while true\n",
    "        append!(a, rand(1000))\n",
    "    end    \n",
    "```\n",
    "\n",
    "フリーズ対策としてUnix系OSを使用している人は ulimit を使って仮想メモリの使用量の最大値を設定してからJuliaを起動しましょう。\n",
    "Windowsの場合、メモリ使用量に制限をかけるようなコマンドがない(らしい)のでWindowsでJuliaを使う場合は、細心の注意を払ってコードを書きましょう。\n",
    "\n",
    "ulimit で制限をかけると OutOfMemoryError() と出て、フリーズする前に強制的にコードの実行が終了します。\n",
    "```julia\n",
    "bash> ulimit -v 1048576 # 1048576kB -> 1GBを上限に設定\n",
    "bash> julia -q\n",
    "julia> a = []\n",
    "0-element Array{Any,1}\n",
    "\n",
    "julia> while true\n",
    "              append!(a, rand(1000))\n",
    "       end\n",
    "ERROR: OutOfMemoryError()\n",
    ".\n",
    ".\n",
    ".\n",
    "```"
   ]
  },
  {
   "cell_type": "code",
   "execution_count": null,
   "metadata": {
    "collapsed": true
   },
   "outputs": [],
   "source": []
  },
  {
   "cell_type": "markdown",
   "metadata": {},
   "source": [
    "## タプル\n",
    "\n",
    "タプルは一次元配列の要素を変更できない版みたいなものです。要素へのアクセス方法は配列と同じです。<br>\n",
    "\" ( ) \" で囲み(任意)、 \" , \" で区切ります。"
   ]
  },
  {
   "cell_type": "code",
   "execution_count": null,
   "metadata": {
    "collapsed": false
   },
   "outputs": [],
   "source": [
    "t = (1, 4im, \"string\")\n",
    "t[3]"
   ]
  },
  {
   "cell_type": "markdown",
   "metadata": {},
   "source": [
    "配列ではないので値を更新することができません"
   ]
  },
  {
   "cell_type": "code",
   "execution_count": null,
   "metadata": {
    "collapsed": false
   },
   "outputs": [],
   "source": [
    "t[2] = 100"
   ]
  },
  {
   "cell_type": "code",
   "execution_count": null,
   "metadata": {
    "collapsed": true
   },
   "outputs": [],
   "source": []
  },
  {
   "cell_type": "markdown",
   "metadata": {},
   "source": [
    "[目次へ戻る](#目次)"
   ]
  },
  {
   "cell_type": "markdown",
   "metadata": {},
   "source": [
    "# 辞書型\n",
    "\n",
    "C言語で言ったらswitch文みたいなことができます。\n",
    "\n",
    "基本文法\n",
    "```julia\n",
    "    Dict(key => value)\n",
    "```\n",
    "\n",
    "\n",
    "試しに成績(A, B, C, D)を入れたら、GPを返すような辞書を作ってみます。"
   ]
  },
  {
   "cell_type": "code",
   "execution_count": null,
   "metadata": {
    "collapsed": false
   },
   "outputs": [],
   "source": [
    "GP = Dict('A' => 4, 'B' => 3,'C' => 2)"
   ]
  },
  {
   "cell_type": "code",
   "execution_count": null,
   "metadata": {
    "collapsed": false
   },
   "outputs": [],
   "source": [
    "GP['B']"
   ]
  },
  {
   "cell_type": "markdown",
   "metadata": {
    "collapsed": true
   },
   "source": [
    "配列の時同様、push! で要素を増やせます。\n",
    "ある要素を消したいときは、delete! を使います。"
   ]
  },
  {
   "cell_type": "code",
   "execution_count": null,
   "metadata": {
    "collapsed": false
   },
   "outputs": [],
   "source": [
    "push!(GP, 'D'=>1)"
   ]
  },
  {
   "cell_type": "code",
   "execution_count": null,
   "metadata": {
    "collapsed": false
   },
   "outputs": [],
   "source": [
    "delete!(GP, 'A') # key A を削除"
   ]
  },
  {
   "cell_type": "code",
   "execution_count": null,
   "metadata": {
    "collapsed": true
   },
   "outputs": [],
   "source": []
  },
  {
   "cell_type": "markdown",
   "metadata": {},
   "source": [
    "[目次へ戻る](#目次)"
   ]
  },
  {
   "cell_type": "markdown",
   "metadata": {},
   "source": [
    "# if文\n",
    "\n",
    "if文の基本構文は以下のとおりです。\n",
    "```julia\n",
    "    if 条件式\n",
    "        処理\n",
    "    elseif 条件式\n",
    "        処理\n",
    "    else\n",
    "        処理\n",
    "    end\n",
    "``` \n",
    "\n",
    "## 論理演算子、比較演算子\n",
    "\n",
    "<style type=\"text/css\">\n",
    ".tg  {border-collapse:collapse;border-spacing:0;}\n",
    ".tg td{font-family:Arial, sans-serif;font-size:14px;padding:10px 5px;border-style:solid;border-width:1px;overflow:hidden;word-break:normal;}\n",
    ".tg th{font-family:Arial, sans-serif;font-size:14px;font-weight:normal;padding:10px 5px;border-style:solid;border-width:1px;overflow:hidden;word-break:normal;}\n",
    ".tg .tg-s6z2{text-align:center}\n",
    ".tg .tg-baqh{text-align:center;vertical-align:top}\n",
    "</style>\n",
    "<table class=\"tg\">\n",
    "  <tr>\n",
    "    <th class=\"tg-s6z2\">意味</th>\n",
    "    <th class=\"tg-s6z2\">Fortran</th>\n",
    "    <th class=\"tg-baqh\">C</th>\n",
    "    <th class=\"tg-baqh\">julia</th>\n",
    "  </tr>\n",
    "  <tr>\n",
    "    <td class=\"tg-s6z2\">かつ</td>\n",
    "    <td class=\"tg-s6z2\">.and.</td>\n",
    "    <td class=\"tg-baqh\">&amp;&amp;</td>\n",
    "    <td class=\"tg-baqh\">&amp;&amp;</td>\n",
    "  </tr>\n",
    "  <tr>\n",
    "    <td class=\"tg-s6z2\">または</td>\n",
    "    <td class=\"tg-s6z2\">.or.</td>\n",
    "    <td class=\"tg-baqh\">||</td>\n",
    "    <td class=\"tg-baqh\">||</td>\n",
    "  </tr>\n",
    "  <tr>\n",
    "    <td class=\"tg-baqh\">否定</td>\n",
    "    <td class=\"tg-baqh\">.not.</td>\n",
    "    <td class=\"tg-baqh\">!</td>\n",
    "    <td class=\"tg-baqh\">!</td>\n",
    "  </tr>\n",
    "  <tr>\n",
    "    <td class=\"tg-baqh\">より小さい</td>\n",
    "    <td class=\"tg-baqh\">&lt;</td>\n",
    "    <td class=\"tg-baqh\">&lt;</td>\n",
    "    <td class=\"tg-baqh\">&lt;</td>\n",
    "  </tr>\n",
    "  <tr>\n",
    "    <td class=\"tg-baqh\">以下</td>\n",
    "    <td class=\"tg-baqh\">&lt;=</td>\n",
    "    <td class=\"tg-baqh\">&lt;=</td>\n",
    "    <td class=\"tg-baqh\">&lt;=</td>\n",
    "  </tr>\n",
    "  <tr>\n",
    "    <td class=\"tg-baqh\">より大きい</td>\n",
    "    <td class=\"tg-baqh\">&gt;</td>\n",
    "    <td class=\"tg-baqh\">&gt;</td>\n",
    "    <td class=\"tg-baqh\">&gt;</td>\n",
    "  </tr>\n",
    "  <tr>\n",
    "    <td class=\"tg-baqh\">以上</td>\n",
    "    <td class=\"tg-baqh\">&gt;=</td>\n",
    "    <td class=\"tg-baqh\">&gt;=</td>\n",
    "    <td class=\"tg-baqh\">&gt;=</td>\n",
    "  </tr>\n",
    "  <tr>\n",
    "    <td class=\"tg-baqh\">等しい</td>\n",
    "    <td class=\"tg-baqh\">==</td>\n",
    "    <td class=\"tg-baqh\">==</td>\n",
    "    <td class=\"tg-baqh\">==</td>\n",
    "  </tr>\n",
    "  <tr>\n",
    "    <td class=\"tg-baqh\">等しくない</td>\n",
    "    <td class=\"tg-baqh\">!=</td>\n",
    "    <td class=\"tg-baqh\">!=</td>\n",
    "    <td class=\"tg-baqh\">!=</td>\n",
    "  </tr>\n",
    "</table>\n",
    "\n",
    "基本的な使い方は他の言語と同様ですが、Juliaでは\n",
    "```julia\n",
    "    x < y && y < z\n",
    "```\n",
    "を\n",
    "```julia\n",
    "    x < y < z\n",
    "```\n",
    "などと書くことが出来ます。"
   ]
  },
  {
   "cell_type": "code",
   "execution_count": null,
   "metadata": {
    "collapsed": false
   },
   "outputs": [],
   "source": [
    "x, y = 1, 2\n",
    "if x < y\n",
    "  println(\"x is less than y\")\n",
    "elseif x > y\n",
    "  println(\"x is greater than y\")\n",
    "else\n",
    "  println(\"x is equal to y\")\n",
    "end\n",
    "# http://docs.julialang.org/en/release-0.5/manual/control-flow/"
   ]
  },
  {
   "cell_type": "code",
   "execution_count": null,
   "metadata": {
    "collapsed": false
   },
   "outputs": [],
   "source": [
    "x = 3\n",
    "1 < x < 2"
   ]
  },
  {
   "cell_type": "code",
   "execution_count": null,
   "metadata": {
    "collapsed": true
   },
   "outputs": [],
   "source": []
  },
  {
   "cell_type": "markdown",
   "metadata": {},
   "source": [
    "[目次へ戻る](#目次)"
   ]
  },
  {
   "cell_type": "markdown",
   "metadata": {},
   "source": [
    "# for文、while文\n",
    "\n",
    "基本文法\n",
    "```julia\n",
    "    for itr in range\n",
    "        処理\n",
    "    end\n",
    "```\n",
    "\n",
    "```julia\n",
    "    while bool\n",
    "        処理\n",
    "    end\n",
    "```\n",
    "        "
   ]
  },
  {
   "cell_type": "code",
   "execution_count": null,
   "metadata": {
    "collapsed": false
   },
   "outputs": [],
   "source": [
    "for i in 1:10\n",
    "    println(i)\n",
    "end"
   ]
  },
  {
   "cell_type": "code",
   "execution_count": null,
   "metadata": {
    "collapsed": false
   },
   "outputs": [],
   "source": [
    "list = [\"国語\", \"英語\", \"数学\"]\n",
    "for j in list\n",
    "    println(j)\n",
    "end"
   ]
  },
  {
   "cell_type": "markdown",
   "metadata": {},
   "source": [
    "ネストされたfor文"
   ]
  },
  {
   "cell_type": "code",
   "execution_count": null,
   "metadata": {
    "collapsed": false
   },
   "outputs": [],
   "source": [
    "for i in 1:3\n",
    "    for j in i:3\n",
    "        print((i,j))\n",
    "    end\n",
    "end"
   ]
  },
  {
   "cell_type": "code",
   "execution_count": null,
   "metadata": {
    "collapsed": false
   },
   "outputs": [],
   "source": [
    "for i in 1:3, j in i:3\n",
    "    print((i,j))\n",
    "end"
   ]
  },
  {
   "cell_type": "code",
   "execution_count": null,
   "metadata": {
    "collapsed": true
   },
   "outputs": [],
   "source": []
  },
  {
   "cell_type": "markdown",
   "metadata": {},
   "source": [
    "[目次へ戻る](#目次)"
   ]
  },
  {
   "cell_type": "markdown",
   "metadata": {
    "collapsed": true
   },
   "source": [
    "## 内包表記 comprehension"
   ]
  },
  {
   "cell_type": "code",
   "execution_count": null,
   "metadata": {
    "collapsed": false
   },
   "outputs": [],
   "source": [
    "[(i,j) for i in 1:3 for j in i:3]"
   ]
  },
  {
   "cell_type": "code",
   "execution_count": null,
   "metadata": {
    "collapsed": false
   },
   "outputs": [],
   "source": [
    "[(i,j) for i in 1:3, j in 1:3 if i <= j]"
   ]
  },
  {
   "cell_type": "markdown",
   "metadata": {},
   "source": [
    "$\\displaystyle \\sum_{n=1}^{5}2^n$"
   ]
  },
  {
   "cell_type": "code",
   "execution_count": null,
   "metadata": {
    "collapsed": false
   },
   "outputs": [],
   "source": [
    "sum(2^n for n in 1:5) # MATLAB なら arrayfun が機能的に近いと言えなくもないが、Julia に比べ利便性はだいぶ劣る。"
   ]
  },
  {
   "cell_type": "code",
   "execution_count": null,
   "metadata": {
    "collapsed": true
   },
   "outputs": [],
   "source": []
  },
  {
   "cell_type": "markdown",
   "metadata": {},
   "source": [
    "[目次へ戻る](#目次)"
   ]
  },
  {
   "cell_type": "markdown",
   "metadata": {},
   "source": [
    "# 関数\n",
    "\n",
    "変数の時同様、Juliaでは関数の型宣言や、引数の型宣言は不要です。\n",
    "\n",
    "基本構文\n",
    "```julia\n",
    "    function 関数名(引数)\n",
    "        処理\n",
    "        return 返り値1, 返り値2, 返り値3 ... \n",
    "    end    \n",
    "```\n",
    "\n",
    "CやFortranと違って(?) Juliaの関数では複数の返り値を返すことが出来ます。\n",
    "返り値には数の他にも配列や関数などあらゆるものが使えます。"
   ]
  },
  {
   "cell_type": "code",
   "execution_count": null,
   "metadata": {
    "collapsed": false
   },
   "outputs": [],
   "source": [
    "function f(x)\n",
    "    2x^2 + 1 # endの直上に値がある場合はreturnは不要\n",
    "end"
   ]
  },
  {
   "cell_type": "code",
   "execution_count": null,
   "metadata": {
    "collapsed": false
   },
   "outputs": [],
   "source": [
    "f(3)"
   ]
  },
  {
   "cell_type": "code",
   "execution_count": null,
   "metadata": {
    "collapsed": false
   },
   "outputs": [],
   "source": [
    "g(x) = 2x^2 + 1 # 一行書きでも定義できる"
   ]
  },
  {
   "cell_type": "code",
   "execution_count": null,
   "metadata": {
    "collapsed": false
   },
   "outputs": [],
   "source": [
    "g(3)"
   ]
  },
  {
   "cell_type": "code",
   "execution_count": null,
   "metadata": {
    "collapsed": false
   },
   "outputs": [],
   "source": [
    "x -> 2x^2 + 1 # 無名関数。一度限りしか使わなかったりで名前つけるほどのものでもないときとかに使用。"
   ]
  },
  {
   "cell_type": "code",
   "execution_count": null,
   "metadata": {
    "collapsed": false
   },
   "outputs": [],
   "source": [
    "(x -> 2x^2 + 1)(3)"
   ]
  },
  {
   "cell_type": "code",
   "execution_count": null,
   "metadata": {
    "collapsed": true
   },
   "outputs": [],
   "source": []
  },
  {
   "cell_type": "markdown",
   "metadata": {},
   "source": [
    "引数にはオプション引数やキーワード引数といったものもあります。\n",
    "\n",
    "日頃は $\\alpha = 5.0$ を使うけど、たまに $\\alpha = 10.0$ を使いたいなどというときに便利です。"
   ]
  },
  {
   "cell_type": "code",
   "execution_count": null,
   "metadata": {
    "collapsed": false
   },
   "outputs": [],
   "source": [
    "# オプション引数. \n",
    "function tasu(x, y=10, z=200)\n",
    "    x + y + z\n",
    "end"
   ]
  },
  {
   "cell_type": "code",
   "execution_count": null,
   "metadata": {
    "collapsed": false
   },
   "outputs": [],
   "source": [
    "tasu(3)"
   ]
  },
  {
   "cell_type": "code",
   "execution_count": null,
   "metadata": {
    "collapsed": false
   },
   "outputs": [],
   "source": [
    "tasu(3, 4)"
   ]
  },
  {
   "cell_type": "code",
   "execution_count": null,
   "metadata": {
    "collapsed": false
   },
   "outputs": [],
   "source": [
    "tasu(3, 4, 300)"
   ]
  },
  {
   "cell_type": "code",
   "execution_count": null,
   "metadata": {
    "collapsed": true
   },
   "outputs": [],
   "source": []
  },
  {
   "cell_type": "code",
   "execution_count": null,
   "metadata": {
    "collapsed": false
   },
   "outputs": [],
   "source": [
    "# キーワード引数. オプション引数の数が多くなると不便なので、そのときはキーワード引数を使いましょう。\n",
    "piyo2(; a=10, b=5) = a * b"
   ]
  },
  {
   "cell_type": "code",
   "execution_count": null,
   "metadata": {
    "collapsed": false
   },
   "outputs": [],
   "source": [
    "piyo2()"
   ]
  },
  {
   "cell_type": "code",
   "execution_count": null,
   "metadata": {
    "collapsed": false
   },
   "outputs": [],
   "source": [
    "piyo2(a=2)"
   ]
  },
  {
   "cell_type": "code",
   "execution_count": null,
   "metadata": {
    "collapsed": false
   },
   "outputs": [],
   "source": [
    "piyo2(b=9)"
   ]
  },
  {
   "cell_type": "code",
   "execution_count": null,
   "metadata": {
    "collapsed": false
   },
   "outputs": [],
   "source": [
    "piyo2(a=3, b=8)"
   ]
  },
  {
   "cell_type": "code",
   "execution_count": null,
   "metadata": {
    "collapsed": true
   },
   "outputs": [],
   "source": []
  },
  {
   "cell_type": "markdown",
   "metadata": {},
   "source": [
    "[目次へ戻る](#目次)"
   ]
  },
  {
   "cell_type": "markdown",
   "metadata": {
    "collapsed": true
   },
   "source": [
    "# 多重ディスパッチ\n",
    "\n",
    "Juliaでは関数の引数の型を明示的に書く必要はありませんが、明示的に書くことも出来ます。\n",
    "明示的に書いたほうが実行速度が上がり、また、バグも少なくなるので余裕があれば書いたほうがいいです。\n",
    "\n",
    "また、明示的に書くと、同一の関数でも引数の型の違いで挙動を変えることが出来ます。"
   ]
  },
  {
   "cell_type": "code",
   "execution_count": null,
   "metadata": {
    "collapsed": false
   },
   "outputs": [],
   "source": [
    "数値型(x::Int) = println(\"整数型です\")"
   ]
  },
  {
   "cell_type": "code",
   "execution_count": null,
   "metadata": {
    "collapsed": false
   },
   "outputs": [],
   "source": [
    "数値型(10)"
   ]
  },
  {
   "cell_type": "markdown",
   "metadata": {},
   "source": [
    "型が合わないとエラーが出ます"
   ]
  },
  {
   "cell_type": "code",
   "execution_count": null,
   "metadata": {
    "collapsed": false
   },
   "outputs": [],
   "source": [
    "数値型(10.0)"
   ]
  },
  {
   "cell_type": "markdown",
   "metadata": {},
   "source": [
    "浮動小数点で動くように関数 \" 数値型 \" を次のように定義してみます。"
   ]
  },
  {
   "cell_type": "code",
   "execution_count": null,
   "metadata": {
    "collapsed": false
   },
   "outputs": [],
   "source": [
    "数値型(x::Float64) = println(\"浮動小数点です\")"
   ]
  },
  {
   "cell_type": "code",
   "execution_count": null,
   "metadata": {
    "collapsed": false
   },
   "outputs": [],
   "source": [
    "数値型(10.0)"
   ]
  },
  {
   "cell_type": "markdown",
   "metadata": {},
   "source": [
    "もう一度整数を引数に入れても、元のまま動きます。"
   ]
  },
  {
   "cell_type": "code",
   "execution_count": null,
   "metadata": {
    "collapsed": false
   },
   "outputs": [],
   "source": [
    "数値型(10)"
   ]
  },
  {
   "cell_type": "markdown",
   "metadata": {},
   "source": [
    "このように Julia では同一の関数名でも、引数の型を明示的に指定して定義することによって、引数の型に応じて挙動を変えることが出来ます。\n",
    "\n",
    "これにより(?)、C, Fortran では絶対値を取る関数は引数の型によって、abs だったり fabs だったりですが、Julia では abs 一つで整数型から複素数型などへ対応できます。\n",
    "\n",
    "より詳しく知りたい場合は、テキスト http://lectures.quantecon.org/jl/types_methods.html#id1 を読んでください。"
   ]
  },
  {
   "cell_type": "code",
   "execution_count": null,
   "metadata": {
    "collapsed": true
   },
   "outputs": [],
   "source": []
  },
  {
   "cell_type": "markdown",
   "metadata": {},
   "source": [
    "[目次へ戻る](#目次)"
   ]
  },
  {
   "cell_type": "code",
   "execution_count": null,
   "metadata": {
    "collapsed": true
   },
   "outputs": [],
   "source": []
  },
  {
   "cell_type": "markdown",
   "metadata": {},
   "source": [
    "# 参考\n",
    "\n",
    "- [Julia高速チュートリアル, bicycle1885](https://github.com/bicycle1885/Julia-Tutorial/blob/master/Julia%E9%AB%98%E9%80%9F%E3%83%81%E3%83%A5%E3%83%BC%E3%83%88%E3%83%AA%E3%82%A2%E3%83%AB.ipynb)\n",
    "- [Juliaについて - 超入門, 降籏 大介](http://www.cas.cmc.osaka-u.ac.jp/%7Epaoon/misc/julia/post/basic/)"
   ]
  }
 ],
 "metadata": {
  "kernelspec": {
   "display_name": "Julia 0.5.0",
   "language": "julia",
   "name": "julia-0.5"
  },
  "language_info": {
   "file_extension": ".jl",
   "mimetype": "application/julia",
   "name": "julia",
   "version": "0.5.0"
  }
 },
 "nbformat": 4,
 "nbformat_minor": 1
}
