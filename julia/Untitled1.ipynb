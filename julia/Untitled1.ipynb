{
 "cells": [
  {
   "cell_type": "code",
   "execution_count": 1,
   "metadata": {
    "collapsed": false
   },
   "outputs": [
    {
     "name": "stderr",
     "output_type": "stream",
     "text": [
      "INFO: Cloning cache of Calculus from https://github.com/johnmyleswhite/Calculus.jl.git\n",
      "INFO: Cloning cache of ForwardDiff from https://github.com/JuliaDiff/ForwardDiff.jl.git\n",
      "INFO: Cloning cache of NaNMath from https://github.com/mlubin/NaNMath.jl.git\n",
      "INFO: Installing Calculus v0.1.15\n",
      "INFO: Installing ForwardDiff v0.2.5\n",
      "INFO: Installing NaNMath v0.2.2\n",
      "INFO: Package database updated\n",
      "INFO: METADATA is out-of-date — you may not have the latest version of ForwardDiff\n",
      "INFO: Use `Pkg.update()` to get the latest versions of your packages\n"
     ]
    }
   ],
   "source": [
    "Pkg.add(\"ForwardDiff\")"
   ]
  },
  {
   "cell_type": "code",
   "execution_count": 5,
   "metadata": {
    "collapsed": false
   },
   "outputs": [
    {
     "name": "stderr",
     "output_type": "stream",
     "text": [
      "WARNING: Method definition f(Array{T<:Any, 1}) in module Main at In[4]:6 overwritten at In[5]:6.\n"
     ]
    },
    {
     "ename": "LoadError",
     "evalue": "LoadError: UndefVarError: jacobian not defined\nwhile loading In[5], in expression starting on line 17",
     "output_type": "error",
     "traceback": [
      "LoadError: UndefVarError: jacobian not defined\nwhile loading In[5], in expression starting on line 17",
      "",
      " in execute_request(::ZMQ.Socket, ::IJulia.Msg) at /home/kkaneko/.julia/v0.5/IJulia/src/execute_request.jl:169",
      " in eventloop(::ZMQ.Socket) at /home/kkaneko/.julia/v0.5/IJulia/src/eventloop.jl:8",
      " in (::IJulia.##9#15)() at ./task.jl:360"
     ]
    }
   ],
   "source": [
    "### パッケージを読み込んで…\n",
    "using ForwardDiff\n",
    "\n",
    "### ベクトルをもらって同じ次元のベクトルを返す関数例．周期的境界条件下での u * u_x をイメージしている．\n",
    "function f(u::Vector)\n",
    "    v = similar(u)\n",
    "    N = length(v)\n",
    "    v[1] = u[1]*(u[2]-u[N])\n",
    "    v[N] = u[N]*(u[1]-u[N-1])\n",
    "    for k in 2:N-1\n",
    "        v[k] = u[k]*(u[k+1]-u[k-1])\n",
    "    end\n",
    "    return v\n",
    "end\n",
    "\n",
    "### Jacobian を計算するのもコマンド一つで！ 返り値は j(x) という関数(出力は行列)になることに注意．\n",
    "j = jacobian(f)\n",
    "\n",
    "# 例えば 5次元ベクトルを試しに用意して…\n",
    "x = collect(1.0:1.0:5.0)\n",
    "\n",
    "# 入力が x のときの、$f$ の Jacobian を具体的に出力させる．\n",
    "j(x)"
   ]
  },
  {
   "cell_type": "code",
   "execution_count": 6,
   "metadata": {
    "collapsed": false
   },
   "outputs": [
    {
     "ename": "LoadError",
     "evalue": "LoadError: UndefVarError: jacobian not defined\nwhile loading In[6], in expression starting on line 18",
     "output_type": "error",
     "traceback": [
      "LoadError: UndefVarError: jacobian not defined\nwhile loading In[6], in expression starting on line 18",
      "",
      " in execute_request(::ZMQ.Socket, ::IJulia.Msg) at /home/kkaneko/.julia/v0.5/IJulia/src/execute_request.jl:169",
      " in eventloop(::ZMQ.Socket) at /home/kkaneko/.julia/v0.5/IJulia/src/eventloop.jl:8",
      " in (::IJulia.##9#15)() at ./task.jl:360"
     ]
    }
   ],
   "source": [
    "using ForwardDiff\n",
    "\n",
    "# パラメータ up と、本質的な引数 u をもつ関数 g を考えて、\n",
    "function g(u,up)\n",
    "  u .* up\n",
    "end\n",
    "\n",
    "# パラメータの実際は vp として、\n",
    "vp = collect(1.0:1.0:5.0);\n",
    "\n",
    "# 関数の引数は v に格納して、\n",
    "v = randn(5);\n",
    "\n",
    "# 形式的に引数を一つだけ持つ関数 f を定義して、\n",
    "f(u) = g(u, vp)\n",
    "\n",
    "# 位置 v での f の Jacobian を計算してみると、\n",
    "jacobian(f, v)"
   ]
  },
  {
   "cell_type": "code",
   "execution_count": null,
   "metadata": {
    "collapsed": true
   },
   "outputs": [],
   "source": []
  }
 ],
 "metadata": {
  "kernelspec": {
   "display_name": "Julia 0.5.0",
   "language": "julia",
   "name": "julia-0.5"
  },
  "language_info": {
   "file_extension": ".jl",
   "mimetype": "application/julia",
   "name": "julia",
   "version": "0.5.0"
  }
 },
 "nbformat": 4,
 "nbformat_minor": 0
}
